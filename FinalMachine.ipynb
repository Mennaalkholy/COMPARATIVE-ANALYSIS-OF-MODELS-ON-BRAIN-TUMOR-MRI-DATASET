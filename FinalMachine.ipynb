{
 "cells": [
  {
   "cell_type": "code",
   "execution_count": 27,
   "id": "f73a9afe",
   "metadata": {},
   "outputs": [],
   "source": [
    "import os\n",
    "import numpy as np\n",
    "import pandas as pd\n",
    "import matplotlib.pyplot as plt\n",
    "from sklearn.utils import shuffle\n",
    "from sklearn.model_selection import train_test_split\n",
    "from sklearn.metrics import classification_report, confusion_matrix\n",
    "from sklearn.utils.class_weight import compute_class_weight\n",
    "import tensorflow as tf\n",
    "from tensorflow.keras.preprocessing.image import ImageDataGenerator\n",
    "from tensorflow.keras.applications import VGG19\n",
    "from tensorflow.keras.models import Sequential\n",
    "from tensorflow.keras.layers import Dense, Dropout, Flatten, GlobalAveragePooling2D\n",
    "from tensorflow.keras.optimizers import Adam\n",
    "from tensorflow.keras.callbacks import EarlyStopping, ReduceLROnPlateau"
   ]
  },
  {
   "cell_type": "code",
   "execution_count": 28,
   "id": "d58d9f82",
   "metadata": {},
   "outputs": [],
   "source": [
    "np.random.seed(42)\n",
    "tf.random.set_seed(42)"
   ]
  },
  {
   "cell_type": "code",
   "execution_count": 29,
   "id": "542df132",
   "metadata": {},
   "outputs": [
    {
     "name": "stderr",
     "output_type": "stream",
     "text": [
      "<>:1: SyntaxWarning: invalid escape sequence '\\T'\n",
      "<>:1: SyntaxWarning: invalid escape sequence '\\T'\n",
      "C:\\Users\\Acer\\AppData\\Local\\Temp\\ipykernel_25108\\3765618846.py:1: SyntaxWarning: invalid escape sequence '\\T'\n",
      "  train_data_dir = 'DataSet\\Training'\n"
     ]
    }
   ],
   "source": [
    "train_data_dir = 'DataSet\\Training'\n",
    "filepaths = []\n",
    "labels = []\n",
    "\n",
    "folds = os.listdir(train_data_dir)\n",
    "for fold in folds:\n",
    "    foldpath = os.path.join(train_data_dir, fold)\n",
    "    filelist = os.listdir(foldpath)\n",
    "    for file in filelist:\n",
    "        fpath = os.path.join(foldpath, file)\n",
    "        filepaths.append(fpath)\n",
    "        labels.append(fold)"
   ]
  },
  {
   "cell_type": "code",
   "execution_count": 30,
   "id": "eba449bb",
   "metadata": {},
   "outputs": [],
   "source": [
    "Fseries = pd.Series(filepaths, name='filepaths')\n",
    "Lseries = pd.Series(labels, name='labels')\n",
    "train_df = pd.concat([Fseries, Lseries], axis=1)"
   ]
  },
  {
   "cell_type": "code",
   "execution_count": 31,
   "id": "c33d61c7",
   "metadata": {},
   "outputs": [
    {
     "name": "stderr",
     "output_type": "stream",
     "text": [
      "<>:1: SyntaxWarning: invalid escape sequence '\\T'\n",
      "<>:1: SyntaxWarning: invalid escape sequence '\\T'\n",
      "C:\\Users\\Acer\\AppData\\Local\\Temp\\ipykernel_25108\\2514046976.py:1: SyntaxWarning: invalid escape sequence '\\T'\n",
      "  test_data_dir = 'DataSet\\Testing'\n"
     ]
    }
   ],
   "source": [
    "test_data_dir = 'DataSet\\Testing'\n",
    "filepaths = []\n",
    "labels = []\n",
    "\n",
    "folds = os.listdir(test_data_dir)\n",
    "for fold in folds:\n",
    "    foldpath = os.path.join(test_data_dir, fold)\n",
    "    filelist = os.listdir(foldpath)\n",
    "    for file in filelist:\n",
    "        fpath = os.path.join(foldpath, file)\n",
    "        filepaths.append(fpath)\n",
    "        labels.append(fold)"
   ]
  },
  {
   "cell_type": "code",
   "execution_count": 32,
   "id": "a9988d48",
   "metadata": {},
   "outputs": [],
   "source": [
    "Fseries = pd.Series(filepaths, name='filepaths')\n",
    "Lseries = pd.Series(labels, name='labels')\n",
    "test_df = pd.concat([Fseries, Lseries], axis=1)"
   ]
  },
  {
   "cell_type": "code",
   "execution_count": 33,
   "id": "f8047273",
   "metadata": {},
   "outputs": [],
   "source": [
    "train_df, valid_df = train_test_split(train_df, test_size=0.2, stratify=train_df['labels'], random_state=42)"
   ]
  },
  {
   "cell_type": "code",
   "execution_count": 34,
   "id": "7f4741d9",
   "metadata": {},
   "outputs": [],
   "source": [
    "classes = sorted(list(set(labels)))"
   ]
  },
  {
   "cell_type": "code",
   "execution_count": 35,
   "id": "b514e987",
   "metadata": {},
   "outputs": [],
   "source": [
    "class_weights = compute_class_weight('balanced', classes=np.array(classes), y=train_df['labels'].values)\n",
    "class_weight_dict = dict(enumerate(class_weights))"
   ]
  },
  {
   "cell_type": "code",
   "execution_count": 36,
   "id": "452a85e3",
   "metadata": {},
   "outputs": [],
   "source": [
    "train_datagen = ImageDataGenerator(\n",
    "    rescale=1./255,\n",
    "    rotation_range=20,\n",
    "    width_shift_range=0.2,\n",
    "    height_shift_range=0.2,\n",
    "    shear_range=0.2,\n",
    "    zoom_range=0.2,\n",
    "    horizontal_flip=True,\n",
    "    vertical_flip=True,\n",
    "    brightness_range=[0.8, 1.2],\n",
    "    fill_mode='nearest'\n",
    ")\n",
    "\n",
    "valid_datagen = ImageDataGenerator(rescale=1./255)\n",
    "test_datagen = ImageDataGenerator(rescale=1./255)"
   ]
  },
  {
   "cell_type": "code",
   "execution_count": 37,
   "id": "d6e602da",
   "metadata": {},
   "outputs": [
    {
     "name": "stdout",
     "output_type": "stream",
     "text": [
      "Found 4569 validated image filenames belonging to 4 classes.\n",
      "Found 1143 validated image filenames belonging to 4 classes.\n",
      "Found 1311 validated image filenames belonging to 4 classes.\n"
     ]
    }
   ],
   "source": [
    "IMG_SIZE = (224, 224)\n",
    "BATCH_SIZE = 32\n",
    "\n",
    "train_generator = train_datagen.flow_from_dataframe(\n",
    "    train_df,\n",
    "    x_col='filepaths',\n",
    "    y_col='labels',\n",
    "    target_size=IMG_SIZE,\n",
    "    class_mode='categorical',\n",
    "    batch_size=BATCH_SIZE,\n",
    "    shuffle=True,\n",
    "    seed=42\n",
    ")\n",
    "\n",
    "valid_generator = valid_datagen.flow_from_dataframe(\n",
    "    valid_df,\n",
    "    x_col='filepaths',\n",
    "    y_col='labels',\n",
    "    target_size=IMG_SIZE,\n",
    "    class_mode='categorical',\n",
    "    batch_size=BATCH_SIZE,\n",
    "    shuffle=False\n",
    ")\n",
    "\n",
    "test_generator = test_datagen.flow_from_dataframe(\n",
    "    test_df,\n",
    "    x_col='filepaths',\n",
    "    y_col='labels',\n",
    "    target_size=IMG_SIZE,\n",
    "    class_mode='categorical',\n",
    "    batch_size=BATCH_SIZE,\n",
    "    shuffle=False\n",
    ")"
   ]
  },
  {
   "cell_type": "code",
   "execution_count": 38,
   "id": "02290994",
   "metadata": {},
   "outputs": [],
   "source": [
    "base_model = VGG19(weights='imagenet', include_top=False, input_shape=(224, 224, 3))"
   ]
  },
  {
   "cell_type": "code",
   "execution_count": 39,
   "id": "389c5668",
   "metadata": {},
   "outputs": [],
   "source": [
    "for layer in base_model.layers[:-4]:\n",
    "    layer.trainable = False"
   ]
  },
  {
   "cell_type": "code",
   "execution_count": 40,
   "id": "417af7be",
   "metadata": {},
   "outputs": [],
   "source": [
    "model = Sequential([\n",
    "    base_model,\n",
    "    GlobalAveragePooling2D(),\n",
    "    Dense(512, activation='relu'),\n",
    "    Dropout(0.5),\n",
    "    Dense(256, activation='relu'),\n",
    "    Dropout(0.3),\n",
    "    Dense(len(classes), activation='softmax')\n",
    "])"
   ]
  },
  {
   "cell_type": "code",
   "execution_count": 41,
   "id": "4edac2bb",
   "metadata": {},
   "outputs": [],
   "source": [
    "model.compile(\n",
    "    optimizer=Adam(learning_rate=1e-4),\n",
    "    loss='categorical_crossentropy',\n",
    "    metrics=['accuracy']\n",
    ")"
   ]
  },
  {
   "cell_type": "code",
   "execution_count": null,
   "id": "0e70b32c",
   "metadata": {},
   "outputs": [],
   "source": [
    "early_stopping = EarlyStopping(\n",
    "    monitor='val_loss',\n",
    "    patience=5,\n",
    "    restore_best_weights=True\n",
    ")\n",
    "\n"
   ]
  },
  {
   "cell_type": "code",
   "execution_count": 43,
   "id": "5a5a3082",
   "metadata": {},
   "outputs": [
    {
     "name": "stderr",
     "output_type": "stream",
     "text": [
      "C:\\Users\\Acer\\AppData\\Roaming\\Python\\Python312\\site-packages\\keras\\src\\trainers\\data_adapters\\py_dataset_adapter.py:121: UserWarning: Your `PyDataset` class should call `super().__init__(**kwargs)` in its constructor. `**kwargs` can include `workers`, `use_multiprocessing`, `max_queue_size`. Do not pass these arguments to `fit()`, as they will be ignored.\n",
      "  self._warn_if_super_not_called()\n"
     ]
    },
    {
     "name": "stdout",
     "output_type": "stream",
     "text": [
      "Epoch 1/20\n",
      "\u001b[1m143/143\u001b[0m \u001b[32m━━━━━━━━━━━━━━━━━━━━\u001b[0m\u001b[37m\u001b[0m \u001b[1m367s\u001b[0m 3s/step - accuracy: 0.4621 - loss: 1.1776 - val_accuracy: 0.8556 - val_loss: 0.4374 - learning_rate: 1.0000e-04\n",
      "Epoch 2/20\n",
      "\u001b[1m143/143\u001b[0m \u001b[32m━━━━━━━━━━━━━━━━━━━━\u001b[0m\u001b[37m\u001b[0m \u001b[1m375s\u001b[0m 3s/step - accuracy: 0.7926 - loss: 0.5608 - val_accuracy: 0.8749 - val_loss: 0.3470 - learning_rate: 1.0000e-04\n",
      "Epoch 3/20\n",
      "\u001b[1m143/143\u001b[0m \u001b[32m━━━━━━━━━━━━━━━━━━━━\u001b[0m\u001b[37m\u001b[0m \u001b[1m363s\u001b[0m 3s/step - accuracy: 0.8492 - loss: 0.4374 - val_accuracy: 0.8793 - val_loss: 0.3916 - learning_rate: 1.0000e-04\n",
      "Epoch 4/20\n",
      "\u001b[1m143/143\u001b[0m \u001b[32m━━━━━━━━━━━━━━━━━━━━\u001b[0m\u001b[37m\u001b[0m \u001b[1m364s\u001b[0m 3s/step - accuracy: 0.8704 - loss: 0.3765 - val_accuracy: 0.9090 - val_loss: 0.2709 - learning_rate: 1.0000e-04\n",
      "Epoch 5/20\n",
      "\u001b[1m143/143\u001b[0m \u001b[32m━━━━━━━━━━━━━━━━━━━━\u001b[0m\u001b[37m\u001b[0m \u001b[1m352s\u001b[0m 2s/step - accuracy: 0.8944 - loss: 0.3204 - val_accuracy: 0.9029 - val_loss: 0.2817 - learning_rate: 1.0000e-04\n",
      "Epoch 6/20\n",
      "\u001b[1m143/143\u001b[0m \u001b[32m━━━━━━━━━━━━━━━━━━━━\u001b[0m\u001b[37m\u001b[0m \u001b[1m418s\u001b[0m 3s/step - accuracy: 0.8798 - loss: 0.3444 - val_accuracy: 0.8950 - val_loss: 0.3191 - learning_rate: 1.0000e-04\n",
      "Epoch 7/20\n",
      "\u001b[1m143/143\u001b[0m \u001b[32m━━━━━━━━━━━━━━━━━━━━\u001b[0m\u001b[37m\u001b[0m \u001b[1m441s\u001b[0m 3s/step - accuracy: 0.9022 - loss: 0.2833 - val_accuracy: 0.8941 - val_loss: 0.3120 - learning_rate: 1.0000e-04\n",
      "Epoch 8/20\n",
      "\u001b[1m143/143\u001b[0m \u001b[32m━━━━━━━━━━━━━━━━━━━━\u001b[0m\u001b[37m\u001b[0m \u001b[1m382s\u001b[0m 3s/step - accuracy: 0.9371 - loss: 0.1989 - val_accuracy: 0.9204 - val_loss: 0.2341 - learning_rate: 2.0000e-05\n",
      "Epoch 9/20\n",
      "\u001b[1m143/143\u001b[0m \u001b[32m━━━━━━━━━━━━━━━━━━━━\u001b[0m\u001b[37m\u001b[0m \u001b[1m601s\u001b[0m 4s/step - accuracy: 0.9303 - loss: 0.2079 - val_accuracy: 0.9038 - val_loss: 0.2935 - learning_rate: 2.0000e-05\n",
      "Epoch 10/20\n",
      "\u001b[1m143/143\u001b[0m \u001b[32m━━━━━━━━━━━━━━━━━━━━\u001b[0m\u001b[37m\u001b[0m \u001b[1m724s\u001b[0m 5s/step - accuracy: 0.9360 - loss: 0.1942 - val_accuracy: 0.9090 - val_loss: 0.2797 - learning_rate: 2.0000e-05\n",
      "Epoch 11/20\n",
      "\u001b[1m143/143\u001b[0m \u001b[32m━━━━━━━━━━━━━━━━━━━━\u001b[0m\u001b[37m\u001b[0m \u001b[1m727s\u001b[0m 5s/step - accuracy: 0.9444 - loss: 0.1639 - val_accuracy: 0.9195 - val_loss: 0.2473 - learning_rate: 2.0000e-05\n",
      "Epoch 12/20\n",
      "\u001b[1m143/143\u001b[0m \u001b[32m━━━━━━━━━━━━━━━━━━━━\u001b[0m\u001b[37m\u001b[0m \u001b[1m712s\u001b[0m 5s/step - accuracy: 0.9364 - loss: 0.1717 - val_accuracy: 0.9274 - val_loss: 0.2263 - learning_rate: 4.0000e-06\n",
      "Epoch 13/20\n",
      "\u001b[1m143/143\u001b[0m \u001b[32m━━━━━━━━━━━━━━━━━━━━\u001b[0m\u001b[37m\u001b[0m \u001b[1m772s\u001b[0m 5s/step - accuracy: 0.9438 - loss: 0.1565 - val_accuracy: 0.9291 - val_loss: 0.2219 - learning_rate: 4.0000e-06\n",
      "Epoch 14/20\n",
      "\u001b[1m143/143\u001b[0m \u001b[32m━━━━━━━━━━━━━━━━━━━━\u001b[0m\u001b[37m\u001b[0m \u001b[1m814s\u001b[0m 6s/step - accuracy: 0.9504 - loss: 0.1507 - val_accuracy: 0.9256 - val_loss: 0.2188 - learning_rate: 4.0000e-06\n",
      "Epoch 15/20\n",
      "\u001b[1m143/143\u001b[0m \u001b[32m━━━━━━━━━━━━━━━━━━━━\u001b[0m\u001b[37m\u001b[0m \u001b[1m602s\u001b[0m 4s/step - accuracy: 0.9408 - loss: 0.1647 - val_accuracy: 0.9230 - val_loss: 0.2347 - learning_rate: 4.0000e-06\n",
      "Epoch 16/20\n",
      "\u001b[1m143/143\u001b[0m \u001b[32m━━━━━━━━━━━━━━━━━━━━\u001b[0m\u001b[37m\u001b[0m \u001b[1m526s\u001b[0m 4s/step - accuracy: 0.9494 - loss: 0.1572 - val_accuracy: 0.9291 - val_loss: 0.2229 - learning_rate: 4.0000e-06\n",
      "Epoch 17/20\n",
      "\u001b[1m143/143\u001b[0m \u001b[32m━━━━━━━━━━━━━━━━━━━━\u001b[0m\u001b[37m\u001b[0m \u001b[1m491s\u001b[0m 3s/step - accuracy: 0.9435 - loss: 0.1616 - val_accuracy: 0.9274 - val_loss: 0.2208 - learning_rate: 4.0000e-06\n",
      "Epoch 18/20\n",
      "\u001b[1m143/143\u001b[0m \u001b[32m━━━━━━━━━━━━━━━━━━━━\u001b[0m\u001b[37m\u001b[0m \u001b[1m380s\u001b[0m 3s/step - accuracy: 0.9432 - loss: 0.1691 - val_accuracy: 0.9256 - val_loss: 0.2289 - learning_rate: 1.0000e-06\n",
      "Epoch 19/20\n",
      "\u001b[1m143/143\u001b[0m \u001b[32m━━━━━━━━━━━━━━━━━━━━\u001b[0m\u001b[37m\u001b[0m \u001b[1m361s\u001b[0m 3s/step - accuracy: 0.9488 - loss: 0.1585 - val_accuracy: 0.9256 - val_loss: 0.2330 - learning_rate: 1.0000e-06\n"
     ]
    }
   ],
   "source": [
    "history = model.fit(\n",
    "    train_generator,\n",
    "    epochs=20,\n",
    "    validation_data=valid_generator,\n",
    "    class_weight=class_weight_dict,\n",
    "    callbacks=[early_stopping, reduce_lr],\n",
    "    verbose=1\n",
    ")"
   ]
  },
  {
   "cell_type": "code",
   "execution_count": 51,
   "id": "bf1dd386",
   "metadata": {},
   "outputs": [
    {
     "name": "stderr",
     "output_type": "stream",
     "text": [
      "WARNING:absl:You are saving your model as an HDF5 file via `model.save()` or `keras.saving.save_model(model)`. This file format is considered legacy. We recommend using instead the native Keras format, e.g. `model.save('my_model.keras')` or `keras.saving.save_model(model, 'my_model.keras')`. \n"
     ]
    },
    {
     "name": "stdout",
     "output_type": "stream",
     "text": [
      "Model saved as vgg19_model.h5\n"
     ]
    }
   ],
   "source": [
    "# Assuming your trained model is named 'model'\n",
    "model.save('vgg19_brain_tumor_model.h5')\n",
    "print(\"Model saved as vgg19_model.h5\")"
   ]
  },
  {
   "cell_type": "code",
   "execution_count": 44,
   "id": "d481f1f2",
   "metadata": {},
   "outputs": [
    {
     "name": "stdout",
     "output_type": "stream",
     "text": [
      "\u001b[1m41/41\u001b[0m \u001b[32m━━━━━━━━━━━━━━━━━━━━\u001b[0m\u001b[37m\u001b[0m \u001b[1m71s\u001b[0m 2s/step - accuracy: 0.8690 - loss: 0.3398\n",
      "Test Accuracy: 0.9130\n"
     ]
    }
   ],
   "source": [
    "test_loss, test_accuracy = model.evaluate(test_generator)\n",
    "print(f\"Test Accuracy: {test_accuracy:.4f}\")"
   ]
  },
  {
   "cell_type": "code",
   "execution_count": 45,
   "id": "7457b302",
   "metadata": {},
   "outputs": [
    {
     "name": "stdout",
     "output_type": "stream",
     "text": [
      "\u001b[1m41/41\u001b[0m \u001b[32m━━━━━━━━━━━━━━━━━━━━\u001b[0m\u001b[37m\u001b[0m \u001b[1m70s\u001b[0m 2s/step\n",
      "              precision    recall  f1-score   support\n",
      "\n",
      "      glioma       0.97      0.82      0.89       300\n",
      "  meningioma       0.86      0.85      0.86       306\n",
      "     notumor       0.95      0.98      0.96       405\n",
      "   pituitary       0.87      0.99      0.92       300\n",
      "\n",
      "    accuracy                           0.91      1311\n",
      "   macro avg       0.91      0.91      0.91      1311\n",
      "weighted avg       0.92      0.91      0.91      1311\n",
      "\n"
     ]
    }
   ],
   "source": [
    "y_pred = model.predict(test_generator)\n",
    "y_pred_classes = np.argmax(y_pred, axis=1)\n",
    "print(classification_report(test_generator.classes, y_pred_classes, target_names=classes))\n"
   ]
  },
  {
   "cell_type": "code",
   "execution_count": 55,
   "id": "d8fa94fb",
   "metadata": {},
   "outputs": [
    {
     "data": {
      "image/png": "[encoded data removed]",
      "text/plain": [
       "<Figure size 1200x400 with 2 Axes>"
      ]
     },
     "metadata": {},
     "output_type": "display_data"
    }
   ],
   "source": [
    "plt.figure(figsize=(12, 4))\n",
    "\n",
    "plt.subplot(1, 2, 1)\n",
    "plt.plot(history.history['accuracy'], label='Train Accuracy')\n",
    "plt.plot(history.history['val_accuracy'], label='Validation Accuracy')\n",
    "plt.title('VGG 19 Model Accuracy')\n",
    "plt.xlabel('Epoch')\n",
    "plt.ylabel('Accuracy')\n",
    "plt.legend()\n",
    "\n",
    "plt.subplot(1, 2, 2)\n",
    "plt.plot(history.history['loss'], label='Train Loss')\n",
    "plt.plot(history.history['val_loss'], label='Validation Loss')\n",
    "plt.title('VGG 19 Model Loss')\n",
    "plt.xlabel('Epoch')\n",
    "plt.ylabel('Loss')\n",
    "plt.legend()\n",
    "\n",
    "plt.tight_layout()\n",
    "plt.show()"
   ]
  },
  {
   "cell_type": "code",
   "execution_count": null,
   "id": "1b5da067",
   "metadata": {},
   "outputs": [
    {
     "name": "stderr",
     "output_type": "stream",
     "text": [
      "WARNING:absl:Compiled the loaded model, but the compiled metrics have yet to be built. `model.compile_metrics` will be empty until you train or evaluate the model.\n"
     ]
    },
    {
     "name": "stdout",
     "output_type": "stream",
     "text": [
      "VGG19 model loaded successfully.\n"
     ]
    }
   ],
   "source": [
    "import tkinter as tk\n",
    "from tkinter import filedialog, messagebox\n",
    "from PIL import Image, ImageTk\n",
    "import numpy as np\n",
    "import tensorflow as tf\n",
    "from tensorflow.keras.preprocessing.image import load_img, img_to_array\n",
    "import sys\n",
    "\n",
    "class BrainTumorGUI:\n",
    "    def __init__(self, root):\n",
    "        self.root = root\n",
    "        self.root.title(\"Brain Tumor Classification\")\n",
    "        self.root.geometry(\"1000x700\")\n",
    "\n",
    "        # Configure model paths\n",
    "        self.vgg19_model_path = 'vgg19_brain_tumor_model.h5'\n",
    "        self.other_model_path = 'full_model.pth'\n",
    "\n",
    "        # Load the VGG19 model\n",
    "        try:\n",
    "            self.vgg19_model = tf.keras.models.load_model(self.vgg19_model_path)\n",
    "            print(\"VGG19 model loaded successfully.\")\n",
    "        except FileNotFoundError:\n",
    "            messagebox.showerror(\"Error\", f\"VGG19 model file not found at {self.vgg19_model_path}.\")\n",
    "            self.root.destroy()\n",
    "            return\n",
    "        except Exception as e:\n",
    "            messagebox.showerror(\"Error\", f\"Failed to load VGG19 model: {e}\")\n",
    "            self.root.destroy()\n",
    "            return\n",
    "\n",
    "        # Load the EfficientNet model\n",
    "        try:\n",
    "            self.other_model = tf.keras.models.load_model(self.other_model_path)\n",
    "            print(\"EfficientNet model loaded successfully.\")\n",
    "        except FileNotFoundError:\n",
    "            messagebox.showerror(\"Error\", f\"EfficientNet model file not found at {self.other_model_path}.\")\n",
    "            self.root.destroy()\n",
    "            return\n",
    "        except Exception as e:\n",
    "            messagebox.showerror(\"Error\", f\"Failed to load EfficientNet model: {e}\")\n",
    "            self.root.destroy()\n",
    "            return\n",
    "\n",
    "        # Class labels\n",
    "        self.classes = ['glioma', 'meningioma', 'notumor', 'pituitary']\n",
    "\n",
    "        # GUI components\n",
    "        self.label_title = tk.Label(root, text=\"Brain Tumor MRI Classifier\", font=(\"Arial\", 16, \"bold\"))\n",
    "        self.label_title.pack(pady=10)\n",
    "\n",
    "        self.canvas = tk.Canvas(root, width=400, height=400, bg=\"white\")\n",
    "        self.canvas.pack(pady=10)\n",
    "\n",
    "        self.btn_select = tk.Button(root, text=\"Select MRI Image\", command=self.select_image)\n",
    "        self.btn_select.pack(pady=5)\n",
    "\n",
    "        self.btn_predict_vgg19 = tk.Button(root, text=\"Predict with VGG19\", command=self.predict_vgg19, state=tk.DISABLED)\n",
    "        self.btn_predict_vgg19.pack(pady=5)\n",
    "\n",
    "        self.btn_predict_other = tk.Button(root, text=\"Predict with EfficientNet\", command=self.predict_other, state=tk.DISABLED)\n",
    "        self.btn_predict_other.pack(pady=5)\n",
    "\n",
    "        self.label_result = tk.Label(root, text=\"\", font=(\"Arial\", 12))\n",
    "        self.label_result.pack(pady=10)\n",
    "\n",
    "        # Image variables\n",
    "        self.image_path = None\n",
    "        self.photo = None\n",
    "\n",
    "    def select_image(self):\n",
    "        self.image_path = filedialog.askopenfilename(\n",
    "            filetypes=[(\"Image files\", \"*.jpg *.jpeg *.png\")]\n",
    "        )\n",
    "        if self.image_path:\n",
    "            try:\n",
    "                img = Image.open(self.image_path)\n",
    "                img = img.resize((400, 400), Image.Resampling.LANCZOS)\n",
    "                self.photo = ImageTk.PhotoImage(img)\n",
    "                self.canvas.create_image(200, 200, image=self.photo)\n",
    "                self.btn_predict_vgg19.config(state=tk.NORMAL)\n",
    "                self.btn_predict_other.config(state=tk.NORMAL)\n",
    "                self.label_result.config(text=\"\")\n",
    "                print(f\"Image loaded: {self.image_path}\")\n",
    "            except Exception as e:\n",
    "                messagebox.showerror(\"Error\", f\"Failed to load image: {e}\")\n",
    "                self.image_path = None\n",
    "                self.btn_predict_vgg19.config(state=tk.DISABLED)\n",
    "                self.btn_predict_other.config(state=tk.DISABLED)\n",
    "\n",
    "    def predict_vgg19(self):\n",
    "        if not self.image_path:\n",
    "            messagebox.showwarning(\"Warning\", \"Please select an image first!\")\n",
    "            return\n",
    "\n",
    "        try:\n",
    "            print(f\"Predicting with VGG19 for image: {self.image_path}\")\n",
    "            img = load_img(self.image_path, target_size=(224, 224))\n",
    "            img_array = img_to_array(img)\n",
    "            img_array = np.expand_dims(img_array, axis=0)\n",
    "            img_array = img_array / 255.0\n",
    "\n",
    "            prediction = self.vgg19_model.predict(img_array)\n",
    "            print(f\"VGG19 prediction raw output: {prediction}\")\n",
    "            predicted_class = self.classes[np.argmax(prediction[0])]\n",
    "            confidence = np.max(prediction[0]) * 100\n",
    "\n",
    "            self.label_result.config(\n",
    "                text=f\"Predicted: {predicted_class} (Confidence: {confidence:.2f}%) - VGG19\"\n",
    "            )\n",
    "            print(f\"VGG19 Result: {predicted_class} ({confidence:.2f}%)\")\n",
    "        except Exception as e:\n",
    "            messagebox.showerror(\"Error\", f\"VGG19 prediction failed: {e}\")\n",
    "            print(f\"VGG19 prediction error: {e}\")\n",
    "\n",
    "    def predict_other(self):\n",
    "        if not self.image_path:\n",
    "            messagebox.showwarning(\"Warning\", \"Please select an image first!\")\n",
    "            return\n",
    "\n",
    "        try:\n",
    "            print(f\"Predicting with EfficientNet for image: {self.image_path}\")\n",
    "            img = load_img(self.image_path, target_size=(240, 240))  # Adjust dimensions here\n",
    "            img_array = img_to_array(img)\n",
    "            img_array = np.expand_dims(img_array, axis=0)\n",
    "            img_array = img_array / 255.0\n",
    "\n",
    "            prediction = self.other_model.predict(img_array)\n",
    "            print(f\"EfficientNet prediction raw output: {prediction}\")\n",
    "            predicted_class = self.classes[np.argmax(prediction[0])]\n",
    "            confidence = np.max(prediction[0]) * 100\n",
    "\n",
    "            self.label_result.config(\n",
    "               text=f\"Predicted: {predicted_class} (Confidence: {confidence:.2f}%) - EfficientNet\"\n",
    "            )\n",
    "            print(f\"EfficientNet Result: {predicted_class} ({confidence:.2f}%)\")\n",
    "        except Exception as e:\n",
    "            messagebox.showerror(\"Error\", f\"EfficientNet prediction failed: {e}\")\n",
    "            print(f\"EfficientNet prediction error: {e}\")\n",
    "\n",
    "if __name__ == \"__main__\":\n",
    "    root = tk.Tk()\n",
    "    app = BrainTumorGUI(root)\n",
    "    root.mainloop()"
   ]
  }
 ],
 "metadata": {
  "kernelspec": {
   "display_name": "Python 3",
   "language": "python",
   "name": "python3"
  },
  "language_info": {
   "codemirror_mode": {
    "name": "ipython",
    "version": 3
   },
   "file_extension": ".py",
   "mimetype": "text/x-python",
   "name": "python",
   "nbconvert_exporter": "python",
   "pygments_lexer": "ipython3",
   "version": "3.10.9"
  }
 },
 "nbformat": 4,
 "nbformat_minor": 5
}
